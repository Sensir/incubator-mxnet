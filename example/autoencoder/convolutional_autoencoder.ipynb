{
 "cells": [
  {
   "cell_type": "markdown",
   "metadata": {},
   "source": [
    "# Convolutional Auto-encoder"
   ]
  },
  {
   "cell_type": "markdown",
   "metadata": {},
   "source": [
    "![](https://cdn-images-1.medium.com/max/800/1*LSYNW5m3TN7xRX61BZhoZA.png)"
   ]
  },
  {
   "cell_type": "markdown",
   "metadata": {},
   "source": [
    "In this example we will demonstrate how you can create a convolutionnal auto-encoder in Gluon"
   ]
  },
  {
   "cell_type": "code",
   "execution_count": 243,
   "metadata": {},
   "outputs": [],
   "source": [
    "import random\n",
    "\n",
    "import matplotlib.pyplot as plt\n",
    "import mxnet as mx\n",
    "from mxnet import autograd, nd, gluon"
   ]
  },
  {
   "cell_type": "markdown",
   "metadata": {},
   "source": [
    "## Data\n",
    "\n",
    "We will use the FashionMNIST dataset which is of a similar format than MNIST but is richer and has more variance"
   ]
  },
  {
   "cell_type": "code",
   "execution_count": 315,
   "metadata": {},
   "outputs": [],
   "source": [
    "batch_size = 512\n",
    "ctx = mx.gpu() if len(mx.test_utils.list_gpus()) > 0 else mx.cpu()"
   ]
  },
  {
   "cell_type": "code",
   "execution_count": 316,
   "metadata": {},
   "outputs": [],
   "source": [
    "transform = lambda x,y: (x.transpose((2,0,1)).astype('float32')/255., y)\n",
    "\n",
    "train_dataset = gluon.data.vision.FashionMNIST(train=True)\n",
    "test_dataset = gluon.data.vision.FashionMNIST(train=False)\n",
    "\n",
    "train_dataset_t = train_dataset.transform(transform)\n",
    "test_dataset_t = test_dataset.transform(transform)\n",
    "\n",
    "train_data = gluon.data.DataLoader(train_dataset_t, batch_size=batch_size, last_batch='rollover', shuffle=True, num_workers=5)\n",
    "test_data = gluon.data.DataLoader(test_dataset_t, batch_size=batch_size, last_batch='rollover', shuffle=True, num_workers=5)"
   ]
  },
  {
   "cell_type": "code",
   "execution_count": 317,
   "metadata": {},
   "outputs": [
    {
     "data": {
      "image/png": "[encoded data removed]",
      "text/plain": [
       "<Figure size 1440x720 with 10 Axes>"
      ]
     },
     "metadata": {},
     "output_type": "display_data"
    }
   ],
   "source": [
    "plt.figure(figsize=(20,10))\n",
    "for i in range(10):\n",
    "    ax = plt.subplot(1, 10, i+1)\n",
    "    ax.imshow(train_dataset[i][0].squeeze().asnumpy(), cmap='gray')\n",
    "    ax.axis('off')"
   ]
  },
  {
   "cell_type": "markdown",
   "metadata": {},
   "source": [
    "## Network"
   ]
  },
  {
   "cell_type": "code",
   "execution_count": 640,
   "metadata": {},
   "outputs": [],
   "source": [
    "net = gluon.nn.HybridSequential()\n",
    "with net.name_scope():\n",
    "    # Encoder 1x28x28 -> 32x1x1\n",
    "    net.add(\n",
    "        gluon.nn.Conv2D(channels=4, kernel_size=3, padding=1, strides=(2,2), activation='relu'),\n",
    "        gluon.nn.BatchNorm(),\n",
    "        gluon.nn.Conv2D(channels=8, kernel_size=3, padding=1, strides=(2,2), activation='relu'),\n",
    "        gluon.nn.BatchNorm(),\n",
    "        gluon.nn.Conv2D(channels=16, kernel_size=3, padding=1, strides=(2,2), activation='relu'),\n",
    "        gluon.nn.BatchNorm(),\n",
    "        gluon.nn.Conv2D(channels=32, kernel_size=3, padding=0, strides=(2,2),activation='relu'),\n",
    "        gluon.nn.BatchNorm()\n",
    "    )\n",
    "    # Decoder 32x1x1 -> 1x28x28\n",
    "    net.add(\n",
    "        gluon.nn.Conv2D(channels=32, kernel_size=3, padding=2, activation='relu'),\n",
    "        gluon.nn.HybridLambda(lambda F, x: F.UpSampling(x, scale=2, sample_type='nearest')),\n",
    "        gluon.nn.BatchNorm(),\n",
    "        gluon.nn.Conv2D(channels=16, kernel_size=3, padding=1, activation='relu'),\n",
    "        gluon.nn.HybridLambda(lambda F, x: F.UpSampling(x, scale=2, sample_type='nearest')),\n",
    "        gluon.nn.BatchNorm(),\n",
    "        gluon.nn.Conv2D(channels=8, kernel_size=3, padding=2, activation='relu'),\n",
    "        gluon.nn.HybridLambda(lambda F, x: F.UpSampling(x, scale=2, sample_type='nearest')),\n",
    "        gluon.nn.BatchNorm(),\n",
    "        gluon.nn.Conv2D(channels=4, kernel_size=3, padding=1, activation='relu'),\n",
    "        gluon.nn.Conv2D(channels=1, kernel_size=3, padding=1, activation='sigmoid')\n",
    "    )\n",
    "    "
   ]
  },
  {
   "cell_type": "code",
   "execution_count": 641,
   "metadata": {},
   "outputs": [],
   "source": [
    "net.initialize(ctx=ctx)"
   ]
  },
  {
   "cell_type": "code",
   "execution_count": 642,
   "metadata": {},
   "outputs": [
    {
     "name": "stdout",
     "output_type": "stream",
     "text": [
      "--------------------------------------------------------------------------------\n",
      "        Layer (type)                                Output Shape         Param #\n",
      "================================================================================\n",
      "               Input                              (1, 1, 28, 28)               0\n",
      "        Activation-1  <Symbol hybridsequential80_conv0_relu_fwd>               0\n",
      "        Activation-2                              (1, 4, 14, 14)               0\n",
      "            Conv2D-3                              (1, 4, 14, 14)              40\n",
      "         BatchNorm-4                              (1, 4, 14, 14)              16\n",
      "        Activation-5  <Symbol hybridsequential80_conv1_relu_fwd>               0\n",
      "        Activation-6                                (1, 8, 7, 7)               0\n",
      "            Conv2D-7                                (1, 8, 7, 7)             296\n",
      "         BatchNorm-8                                (1, 8, 7, 7)              32\n",
      "        Activation-9  <Symbol hybridsequential80_conv2_relu_fwd>               0\n",
      "       Activation-10                               (1, 16, 4, 4)               0\n",
      "           Conv2D-11                               (1, 16, 4, 4)            1168\n",
      "        BatchNorm-12                               (1, 16, 4, 4)              64\n",
      "       Activation-13  <Symbol hybridsequential80_conv3_relu_fwd>               0\n",
      "       Activation-14                               (1, 32, 1, 1)               0\n",
      "           Conv2D-15                               (1, 32, 1, 1)            4640\n",
      "        BatchNorm-16                               (1, 32, 1, 1)             128\n",
      "       Activation-17  <Symbol hybridsequential80_conv4_relu_fwd>               0\n",
      "       Activation-18                               (1, 32, 3, 3)               0\n",
      "           Conv2D-19                               (1, 32, 3, 3)            9248\n",
      "     HybridLambda-20                               (1, 32, 6, 6)               0\n",
      "        BatchNorm-21                               (1, 32, 6, 6)             128\n",
      "       Activation-22  <Symbol hybridsequential80_conv5_relu_fwd>               0\n",
      "       Activation-23                               (1, 16, 6, 6)               0\n",
      "           Conv2D-24                               (1, 16, 6, 6)            4624\n",
      "     HybridLambda-25                             (1, 16, 12, 12)               0\n",
      "        BatchNorm-26                             (1, 16, 12, 12)              64\n",
      "       Activation-27  <Symbol hybridsequential80_conv6_relu_fwd>               0\n",
      "       Activation-28                              (1, 8, 14, 14)               0\n",
      "           Conv2D-29                              (1, 8, 14, 14)            1160\n",
      "     HybridLambda-30                              (1, 8, 28, 28)               0\n",
      "        BatchNorm-31                              (1, 8, 28, 28)              32\n",
      "       Activation-32  <Symbol hybridsequential80_conv7_relu_fwd>               0\n",
      "       Activation-33                              (1, 4, 28, 28)               0\n",
      "           Conv2D-34                              (1, 4, 28, 28)             292\n",
      "       Activation-35  <Symbol hybridsequential80_conv8_sigmoid_fwd>               0\n",
      "       Activation-36                              (1, 1, 28, 28)               0\n",
      "           Conv2D-37                              (1, 1, 28, 28)              37\n",
      "================================================================================\n",
      "Parameters in forward computation graph, duplicate included\n",
      "   Total params: 21969\n",
      "   Trainable params: 21737\n",
      "   Non-trainable params: 232\n",
      "Shared params in forward computation graph: 0\n",
      "Unique parameters in model: 21969\n",
      "--------------------------------------------------------------------------------\n"
     ]
    }
   ],
   "source": [
    "net.summary(dataset_transformed[0][0].expand_dims(axis=0).as_in_context(ctx))"
   ]
  },
  {
   "cell_type": "markdown",
   "metadata": {},
   "source": [
    "We can see that the original image goes from 28x28 = 784 pixels to a vector of length 32. That is a ~25x information compression rate.\n",
    "Then the decoder brings back this compressed information to the original shape"
   ]
  },
  {
   "cell_type": "code",
   "execution_count": 643,
   "metadata": {},
   "outputs": [],
   "source": [
    "trainer = gluon.Trainer(net.collect_params(), 'adam', {'learning_rate': 0.001, 'wd':0.001})\n",
    "net.hybridize(static_shape=True, static_alloc=True)"
   ]
  },
  {
   "cell_type": "markdown",
   "metadata": {},
   "source": [
    "## Training loop"
   ]
  },
  {
   "cell_type": "code",
   "execution_count": 644,
   "metadata": {},
   "outputs": [
    {
     "name": "stdout",
     "output_type": "stream",
     "text": [
      "Epoch [0], Loss 150.58451856303418\n",
      "Epoch [1], Loss 65.12515858707265\n",
      "Epoch [2], Loss 59.445904230667374\n",
      "Epoch [3], Loss 56.62768763354701\n",
      "Epoch [4], Loss 54.96188484909188\n",
      "Epoch [5], Loss 53.87394831730769\n",
      "Epoch [6], Loss 52.72701322115385\n",
      "Epoch [7], Loss 51.91863496424788\n",
      "Epoch [8], Loss 51.15499382345085\n",
      "Epoch [9], Loss 50.44610543536325\n",
      "Epoch [10], Loss 49.78377904647436\n",
      "Epoch [11], Loss 49.42993790064103\n",
      "Epoch [12], Loss 48.85279147907839\n",
      "Epoch [13], Loss 48.56229133279915\n",
      "Epoch [14], Loss 48.0335202991453\n",
      "Epoch [15], Loss 47.71448484241453\n",
      "Epoch [16], Loss 47.63018746661325\n",
      "Epoch [17], Loss 46.98289346287393\n",
      "Epoch [18], Loss 46.91378939353814\n",
      "Epoch [19], Loss 46.51542467948718\n",
      "Epoch [20], Loss 46.18931540464744\n",
      "Epoch [21], Loss 45.93053886217949\n",
      "Epoch [22], Loss 45.839977297008545\n",
      "Epoch [23], Loss 45.72159278998941\n",
      "Epoch [24], Loss 45.57212373130342\n",
      "Epoch [25], Loss 45.30989165998932\n",
      "Epoch [26], Loss 45.123990050747864\n",
      "Epoch [27], Loss 45.19418569711539\n",
      "Epoch [28], Loss 44.83272643008475\n",
      "Epoch [29], Loss 44.79928719284188\n",
      "Epoch [30], Loss 44.52551999866453\n",
      "Epoch [31], Loss 44.39976045005342\n",
      "Epoch [32], Loss 44.31792534722222\n",
      "Epoch [33], Loss 44.13317140758547\n",
      "Epoch [34], Loss 44.093042405985166\n",
      "Epoch [35], Loss 44.001953125\n",
      "Epoch [36], Loss 43.874645265758545\n",
      "Epoch [37], Loss 43.696017795138886\n",
      "Epoch [38], Loss 43.65276108440171\n",
      "Epoch [39], Loss 43.773793365995765\n",
      "Epoch [40], Loss 43.58095870058761\n",
      "Epoch [41], Loss 43.38808760683761\n",
      "Epoch [42], Loss 43.41396651308761\n",
      "Epoch [43], Loss 43.167876936431625\n",
      "Epoch [44], Loss 43.35061490333686\n",
      "Epoch [45], Loss 43.18432825854701\n",
      "Epoch [46], Loss 43.1171875\n",
      "Epoch [47], Loss 43.11041833600427\n",
      "Epoch [48], Loss 42.99752938034188\n",
      "Epoch [49], Loss 43.00297559428419\n"
     ]
    }
   ],
   "source": [
    "epochs = 50\n",
    "for e in range(epochs):\n",
    "    curr_loss = 0.\n",
    "    for i, (data, _) in enumerate(train_data):\n",
    "        data = data.as_in_context(ctx)\n",
    "        with autograd.record():\n",
    "            output = net(data)\n",
    "            # Compute the L1 loss between the original and the generated image\n",
    "            l = (output.flatten() - data.flatten()).abs().sum(axis=1)\n",
    "        l.backward()\n",
    "        trainer.step(data.shape[0])\n",
    "        \n",
    "        curr_loss += l.mean()\n",
    "\n",
    "    print(\"Epoch [{}], Loss {}\".format(e, curr_loss.asscalar()/(i+1)))"
   ]
  },
  {
   "cell_type": "markdown",
   "metadata": {},
   "source": [
    "## Testing reconstruction"
   ]
  },
  {
   "cell_type": "markdown",
   "metadata": {},
   "source": [
    "We plot 10 images and their reconstruction by the auto-encoder. The results are pretty good for a ~25x compression rate!"
   ]
  },
  {
   "cell_type": "code",
   "execution_count": 645,
   "metadata": {},
   "outputs": [
    {
     "data": {
      "image/png": "[encoded data removed]",
      "text/plain": [
       "<Figure size 1440x288 with 20 Axes>"
      ]
     },
     "metadata": {},
     "output_type": "display_data"
    }
   ],
   "source": [
    "plt.figure(figsize=(20,4))\n",
    "for i in range(10):\n",
    "    idx = random.randint(0, len(test_dataset))\n",
    "    img, _ = test_dataset[idx]\n",
    "    x, _ = test_dataset_t[idx]\n",
    "\n",
    "    data = x.as_in_context(ctx).expand_dims(axis=0)\n",
    "    output = net(data)\n",
    "    \n",
    "    ax = plt.subplot(2, 10, i+1)\n",
    "    ax.imshow(img.squeeze().asnumpy(), cmap='gray')\n",
    "    ax.axis('off')\n",
    "    ax = plt.subplot(2, 10, 10+i+1)\n",
    "    ax.imshow((output[0].asnumpy() * 255.).transpose((1,2,0)).squeeze(), cmap='gray')\n",
    "    _ = ax.axis('off')"
   ]
  },
  {
   "cell_type": "markdown",
   "metadata": {},
   "source": [
    "## Manipulating latent space"
   ]
  },
  {
   "cell_type": "code",
   "execution_count": 646,
   "metadata": {},
   "outputs": [
    {
     "data": {
      "text/plain": [
       "HybridSequential(\n",
       "  (0): Conv2D(1 -> 4, kernel_size=(3, 3), stride=(2, 2), padding=(1, 1))\n",
       "  (1): BatchNorm(axis=1, eps=1e-05, momentum=0.9, fix_gamma=False, use_global_stats=False, in_channels=4)\n",
       "  (2): Conv2D(4 -> 8, kernel_size=(3, 3), stride=(2, 2), padding=(1, 1))\n",
       "  (3): BatchNorm(axis=1, eps=1e-05, momentum=0.9, fix_gamma=False, use_global_stats=False, in_channels=8)\n",
       "  (4): Conv2D(8 -> 16, kernel_size=(3, 3), stride=(2, 2), padding=(1, 1))\n",
       "  (5): BatchNorm(axis=1, eps=1e-05, momentum=0.9, fix_gamma=False, use_global_stats=False, in_channels=16)\n",
       "  (6): Conv2D(16 -> 32, kernel_size=(3, 3), stride=(2, 2))\n",
       "  (7): BatchNorm(axis=1, eps=1e-05, momentum=0.9, fix_gamma=False, use_global_stats=False, in_channels=32)\n",
       "  (8): Conv2D(32 -> 32, kernel_size=(3, 3), stride=(1, 1), padding=(2, 2))\n",
       "  (9): HybridLambda(<lambda>)\n",
       "  (10): BatchNorm(axis=1, eps=1e-05, momentum=0.9, fix_gamma=False, use_global_stats=False, in_channels=32)\n",
       "  (11): Conv2D(32 -> 16, kernel_size=(3, 3), stride=(1, 1), padding=(1, 1))\n",
       "  (12): HybridLambda(<lambda>)\n",
       "  (13): BatchNorm(axis=1, eps=1e-05, momentum=0.9, fix_gamma=False, use_global_stats=False, in_channels=16)\n",
       "  (14): Conv2D(16 -> 8, kernel_size=(3, 3), stride=(1, 1), padding=(2, 2))\n",
       "  (15): HybridLambda(<lambda>)\n",
       "  (16): BatchNorm(axis=1, eps=1e-05, momentum=0.9, fix_gamma=False, use_global_stats=False, in_channels=8)\n",
       "  (17): Conv2D(8 -> 4, kernel_size=(3, 3), stride=(1, 1), padding=(1, 1))\n",
       "  (18): Conv2D(4 -> 1, kernel_size=(3, 3), stride=(1, 1), padding=(1, 1))\n",
       ")"
      ]
     },
     "execution_count": 646,
     "metadata": {},
     "output_type": "execute_result"
    }
   ],
   "source": [
    "net"
   ]
  },
  {
   "cell_type": "markdown",
   "metadata": {},
   "source": [
    "We split the Autoencoder into **encoder** and **decoder** subnetworks."
   ]
  },
  {
   "cell_type": "code",
   "execution_count": 647,
   "metadata": {},
   "outputs": [],
   "source": [
    "encoder = net[:9]\n",
    "decoder = net[9:]"
   ]
  },
  {
   "cell_type": "markdown",
   "metadata": {},
   "source": [
    "We get two images from the testing set"
   ]
  },
  {
   "cell_type": "code",
   "execution_count": 666,
   "metadata": {},
   "outputs": [
    {
     "data": {
      "image/png": "[encoded data removed]",
      "text/plain": [
       "<Figure size 144x144 with 1 Axes>"
      ]
     },
     "metadata": {},
     "output_type": "display_data"
    },
    {
     "data": {
      "text/plain": [
       "<matplotlib.image.AxesImage at 0x7fbcedbdc1d0>"
      ]
     },
     "execution_count": 666,
     "metadata": {},
     "output_type": "execute_result"
    },
    {
     "data": {
      "image/png": "[encoded data removed]",
      "text/plain": [
       "<Figure size 144x144 with 1 Axes>"
      ]
     },
     "metadata": {},
     "output_type": "display_data"
    }
   ],
   "source": [
    "idx = random.randint(0, len(test_dataset))\n",
    "img1, _ = test_dataset[idx]\n",
    "x, _ = test_dataset_t[idx]\n",
    "data1 = x.as_in_context(ctx).expand_dims(axis=0)\n",
    "\n",
    "idx = random.randint(0, len(test_dataset))\n",
    "img2, _ = test_dataset[idx]\n",
    "x, _ = test_dataset_t[idx]\n",
    "data2 = x.as_in_context(ctx).expand_dims(axis=0)\n",
    "\n",
    "plt.figure(figsize=(2,2))\n",
    "plt.imshow(img1.squeeze().asnumpy(), cmap='gray')\n",
    "plt.show()\n",
    "plt.figure(figsize=(2,2))\n",
    "plt.imshow(img2.squeeze().asnumpy(), cmap='gray')"
   ]
  },
  {
   "cell_type": "markdown",
   "metadata": {},
   "source": [
    "We get the latent representations of the images by passing them through the network"
   ]
  },
  {
   "cell_type": "code",
   "execution_count": 667,
   "metadata": {},
   "outputs": [],
   "source": [
    "latent1 = encoder(data1)\n",
    "latent2 = encoder(data2)"
   ]
  },
  {
   "cell_type": "code",
   "execution_count": 668,
   "metadata": {},
   "outputs": [
    {
     "data": {
      "text/plain": [
       "(1, 32, 3, 3)"
      ]
     },
     "execution_count": 668,
     "metadata": {},
     "output_type": "execute_result"
    }
   ],
   "source": [
    "latent1.shape"
   ]
  },
  {
   "cell_type": "markdown",
   "metadata": {},
   "source": [
    "We interpolate the two latent representations, vectors of 32 values, to get a new intermediate latent representation, and plot the resulting decoded image"
   ]
  },
  {
   "cell_type": "code",
   "execution_count": 669,
   "metadata": {},
   "outputs": [
    {
     "data": {
      "image/png": "[encoded data removed]",
      "text/plain": [
       "<Figure size 720x720 with 25 Axes>"
      ]
     },
     "metadata": {},
     "output_type": "display_data"
    }
   ],
   "source": [
    "num = 25.\n",
    "square = 5\n",
    "plt.figure(figsize=(square*2, square*2))\n",
    "\n",
    "for i in range(int(num)):\n",
    "    \n",
    "        new_latent = latent2*(i+1)/num + latent1*(num-i)/num\n",
    "        output = decoder(new_latent)\n",
    "        \n",
    "        #plot result\n",
    "        ax = plt.subplot(square, square, i%square+1+(i//square)*square)\n",
    "        ax.imshow((output[0].asnumpy() * 255.).transpose((1,2,0)).squeeze(), cmap='gray')\n",
    "        _ = ax.axis('off')"
   ]
  },
  {
   "cell_type": "markdown",
   "metadata": {},
   "source": [
    "We can see taht the latent space learnt by the auto-encoder is fairly smooth, there is no sudden jump from one shape to another"
   ]
  }
 ],
 "metadata": {
  "kernelspec": {
   "display_name": "Python 3",
   "language": "python",
   "name": "python3"
  },
  "language_info": {
   "codemirror_mode": {
    "name": "ipython",
    "version": 3
   },
   "file_extension": ".py",
   "mimetype": "text/x-python",
   "name": "python",
   "nbconvert_exporter": "python",
   "pygments_lexer": "ipython3",
   "version": "3.6.4"
  }
 },
 "nbformat": 4,
 "nbformat_minor": 2
}
